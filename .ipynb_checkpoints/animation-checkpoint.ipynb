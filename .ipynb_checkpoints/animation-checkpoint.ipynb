{
 "cells": [
  {
   "cell_type": "code",
   "execution_count": 1,
   "metadata": {
    "code_folding": [
     0
    ],
    "collapsed": true
   },
   "outputs": [
    {
     "name": "stderr",
     "output_type": "stream",
     "text": [
      "Exception in Tkinter callback\n",
      "Traceback (most recent call last):\n",
      "  File \"C:\\miniconda3\\lib\\tkinter\\__init__.py\", line 1705, in __call__\n",
      "    return self.func(*args)\n",
      "  File \"C:\\miniconda3\\lib\\tkinter\\__init__.py\", line 749, in callit\n",
      "    func(*args)\n",
      "  File \"c:\\users\\caner\\pycharmprojects\\thesis\\venv\\lib\\site-packages\\salabim\\salabim.py\", line 4820, in simulate_and_animate_loop\n",
      "    ao.im = ImageTk.PhotoImage(ao._image)\n",
      "  File \"c:\\users\\caner\\pycharmprojects\\thesis\\venv\\lib\\site-packages\\PIL\\ImageTk.py\", line 117, in __init__\n",
      "    self.__photo = tkinter.PhotoImage(**kw)\n",
      "  File \"C:\\miniconda3\\lib\\tkinter\\__init__.py\", line 3545, in __init__\n",
      "    Image.__init__(self, 'photo', name, cnf, master, **kw)\n",
      "  File \"C:\\miniconda3\\lib\\tkinter\\__init__.py\", line 3489, in __init__\n",
      "    raise RuntimeError('Too early to create image')\n",
      "RuntimeError: Too early to create image\n",
      "Exception ignored in: <function PhotoImage.__del__ at 0x000001EBA371CAE8>\n",
      "Traceback (most recent call last):\n",
      "  File \"c:\\users\\caner\\pycharmprojects\\thesis\\venv\\lib\\site-packages\\PIL\\ImageTk.py\", line 123, in __del__\n",
      "    name = self.__photo.name\n",
      "AttributeError: 'PhotoImage' object has no attribute '_PhotoImage__photo'\n"
     ]
    },
    {
     "ename": "KeyboardInterrupt",
     "evalue": "",
     "output_type": "error",
     "traceback": [
      "\u001b[1;31m---------------------------------------------------------------------------\u001b[0m",
      "\u001b[1;31mKeyboardInterrupt\u001b[0m                         Traceback (most recent call last)",
      "\u001b[1;32m<ipython-input-1-c1193d4b6c6a>\u001b[0m in \u001b[0;36m<module>\u001b[1;34m\u001b[0m\n\u001b[0;32m    108\u001b[0m \u001b[0menv\u001b[0m\u001b[1;33m.\u001b[0m\u001b[0mjobs\u001b[0m \u001b[1;33m=\u001b[0m \u001b[0msim\u001b[0m\u001b[1;33m.\u001b[0m\u001b[0mQueue\u001b[0m\u001b[1;33m(\u001b[0m\u001b[0mname\u001b[0m\u001b[1;33m=\u001b[0m\u001b[1;34m'jobs'\u001b[0m\u001b[1;33m)\u001b[0m\u001b[1;33m\u001b[0m\u001b[1;33m\u001b[0m\u001b[0m\n\u001b[0;32m    109\u001b[0m \u001b[0menv\u001b[0m\u001b[1;33m.\u001b[0m\u001b[0manimation_parameters\u001b[0m\u001b[1;33m(\u001b[0m\u001b[0mmodelname\u001b[0m\u001b[1;33m=\u001b[0m\u001b[1;34m'job shop 4.3'\u001b[0m\u001b[1;33m,\u001b[0m \u001b[0mspeed\u001b[0m\u001b[1;33m=\u001b[0m\u001b[1;36m2\u001b[0m\u001b[1;33m)\u001b[0m\u001b[1;33m\u001b[0m\u001b[1;33m\u001b[0m\u001b[0m\n\u001b[1;32m--> 110\u001b[1;33m \u001b[0menv\u001b[0m\u001b[1;33m.\u001b[0m\u001b[0mrun\u001b[0m\u001b[1;33m(\u001b[0m\u001b[1;33m)\u001b[0m\u001b[1;33m\u001b[0m\u001b[1;33m\u001b[0m\u001b[0m\n\u001b[0m",
      "\u001b[1;32mc:\\users\\caner\\pycharmprojects\\thesis\\venv\\lib\\site-packages\\salabim\\salabim.py\u001b[0m in \u001b[0;36mrun\u001b[1;34m(self, duration, till, urgent)\u001b[0m\n\u001b[0;32m   4739\u001b[0m         \u001b[1;32mwhile\u001b[0m \u001b[0mself\u001b[0m\u001b[1;33m.\u001b[0m\u001b[0mrunning\u001b[0m\u001b[1;33m:\u001b[0m\u001b[1;33m\u001b[0m\u001b[1;33m\u001b[0m\u001b[0m\n\u001b[0;32m   4740\u001b[0m             \u001b[1;32mif\u001b[0m \u001b[0mself\u001b[0m\u001b[1;33m.\u001b[0m\u001b[0m_animate\u001b[0m\u001b[1;33m:\u001b[0m\u001b[1;33m\u001b[0m\u001b[1;33m\u001b[0m\u001b[0m\n\u001b[1;32m-> 4741\u001b[1;33m                 \u001b[0mself\u001b[0m\u001b[1;33m.\u001b[0m\u001b[0mdo_simulate_and_animate\u001b[0m\u001b[1;33m(\u001b[0m\u001b[1;33m)\u001b[0m\u001b[1;33m\u001b[0m\u001b[1;33m\u001b[0m\u001b[0m\n\u001b[0m\u001b[0;32m   4742\u001b[0m             \u001b[1;32melse\u001b[0m\u001b[1;33m:\u001b[0m\u001b[1;33m\u001b[0m\u001b[1;33m\u001b[0m\u001b[0m\n\u001b[0;32m   4743\u001b[0m                 \u001b[0mself\u001b[0m\u001b[1;33m.\u001b[0m\u001b[0mdo_simulate\u001b[0m\u001b[1;33m(\u001b[0m\u001b[1;33m)\u001b[0m\u001b[1;33m\u001b[0m\u001b[1;33m\u001b[0m\u001b[0m\n",
      "\u001b[1;32mc:\\users\\caner\\pycharmprojects\\thesis\\venv\\lib\\site-packages\\salabim\\salabim.py\u001b[0m in \u001b[0;36mdo_simulate_and_animate\u001b[1;34m(self)\u001b[0m\n\u001b[0;32m   4756\u001b[0m                 \u001b[1;32mpass\u001b[0m\u001b[1;33m\u001b[0m\u001b[1;33m\u001b[0m\u001b[0m\n\u001b[0;32m   4757\u001b[0m         \u001b[1;32melse\u001b[0m\u001b[1;33m:\u001b[0m\u001b[1;33m\u001b[0m\u001b[1;33m\u001b[0m\u001b[0m\n\u001b[1;32m-> 4758\u001b[1;33m             \u001b[0mself\u001b[0m\u001b[1;33m.\u001b[0m\u001b[0mroot\u001b[0m\u001b[1;33m.\u001b[0m\u001b[0mafter\u001b[0m\u001b[1;33m(\u001b[0m\u001b[1;36m0\u001b[0m\u001b[1;33m,\u001b[0m \u001b[0mself\u001b[0m\u001b[1;33m.\u001b[0m\u001b[0msimulate_and_animate_loop\u001b[0m\u001b[1;33m)\u001b[0m\u001b[1;33m\u001b[0m\u001b[1;33m\u001b[0m\u001b[0m\n\u001b[0m\u001b[0;32m   4759\u001b[0m             \u001b[0mself\u001b[0m\u001b[1;33m.\u001b[0m\u001b[0mroot\u001b[0m\u001b[1;33m.\u001b[0m\u001b[0mmainloop\u001b[0m\u001b[1;33m(\u001b[0m\u001b[1;33m)\u001b[0m\u001b[1;33m\u001b[0m\u001b[1;33m\u001b[0m\u001b[0m\n\u001b[0;32m   4760\u001b[0m \u001b[1;33m\u001b[0m\u001b[0m\n",
      "\u001b[1;32mC:\\miniconda3\\lib\\tkinter\\__init__.py\u001b[0m in \u001b[0;36mafter\u001b[1;34m(self, ms, func, *args)\u001b[0m\n\u001b[0;32m    755\u001b[0m             \u001b[0mcallit\u001b[0m\u001b[1;33m.\u001b[0m\u001b[0m__name__\u001b[0m \u001b[1;33m=\u001b[0m \u001b[0mfunc\u001b[0m\u001b[1;33m.\u001b[0m\u001b[0m__name__\u001b[0m\u001b[1;33m\u001b[0m\u001b[1;33m\u001b[0m\u001b[0m\n\u001b[0;32m    756\u001b[0m             \u001b[0mname\u001b[0m \u001b[1;33m=\u001b[0m \u001b[0mself\u001b[0m\u001b[1;33m.\u001b[0m\u001b[0m_register\u001b[0m\u001b[1;33m(\u001b[0m\u001b[0mcallit\u001b[0m\u001b[1;33m)\u001b[0m\u001b[1;33m\u001b[0m\u001b[1;33m\u001b[0m\u001b[0m\n\u001b[1;32m--> 757\u001b[1;33m             \u001b[1;32mreturn\u001b[0m \u001b[0mself\u001b[0m\u001b[1;33m.\u001b[0m\u001b[0mtk\u001b[0m\u001b[1;33m.\u001b[0m\u001b[0mcall\u001b[0m\u001b[1;33m(\u001b[0m\u001b[1;34m'after'\u001b[0m\u001b[1;33m,\u001b[0m \u001b[0mms\u001b[0m\u001b[1;33m,\u001b[0m \u001b[0mname\u001b[0m\u001b[1;33m)\u001b[0m\u001b[1;33m\u001b[0m\u001b[1;33m\u001b[0m\u001b[0m\n\u001b[0m\u001b[0;32m    758\u001b[0m     \u001b[1;32mdef\u001b[0m \u001b[0mafter_idle\u001b[0m\u001b[1;33m(\u001b[0m\u001b[0mself\u001b[0m\u001b[1;33m,\u001b[0m \u001b[0mfunc\u001b[0m\u001b[1;33m,\u001b[0m \u001b[1;33m*\u001b[0m\u001b[0margs\u001b[0m\u001b[1;33m)\u001b[0m\u001b[1;33m:\u001b[0m\u001b[1;33m\u001b[0m\u001b[1;33m\u001b[0m\u001b[0m\n\u001b[0;32m    759\u001b[0m         \"\"\"Call FUNC once if the Tcl main loop has no event to\n",
      "\u001b[1;31mKeyboardInterrupt\u001b[0m: "
     ]
    }
   ],
   "source": [
    "# An animation for dippsdda...\n",
    "\n",
    "import salabim as sim\n",
    "\n",
    "machine_numbers = [[1, 0, 1, 0], [1, 1, 1, 0],\n",
    "                   [0, 1, 0, 0], [1, 1, 0, 1]]\n",
    "\n",
    "operation_durations = [[7, 10, 9, 17], [10, 2, 13, 18],\n",
    "                       [12, 30, 6, 5], [10, 10, 11, 3]]\n",
    "\n",
    "arrival_times = [4, 15, 21, 25]\n",
    "\n",
    "number_of_jobs = len(machine_numbers)\n",
    "number_of_operations_per_job = len(machine_numbers[0])\n",
    "number_of_machines = 2\n",
    "\n",
    "# strategy = 'sptsum'\n",
    "# strategy = 'spt'\n",
    "strategy = 'fifo'\n",
    "# strategy = 'lifo'\n",
    "\n",
    "\n",
    "class Job(sim.Component):\n",
    "    def setup(self, i):\n",
    "        self.operations = sim.Queue(name=self.name() + '.operations')\n",
    "        for j in range(number_of_operations_per_job):\n",
    "            machine = env.machines[machine_numbers[i][j]]\n",
    "            duration = operation_durations[i][j]\n",
    "            Operation(\n",
    "                name='operation.' +\n",
    "                str(i) + '.' + str(j) + ' m=' +\n",
    "                machine.name() + ' d=' + str(duration),\n",
    "                job=self, machine=machine, duration=duration).enter(self.operations)\n",
    "\n",
    "        self.arrival_time = arrival_times[i]\n",
    "        self.depart_time = 0\n",
    "\n",
    "    def process(self):\n",
    "        yield self.hold(self.arrival_time)\n",
    "        self.enter(env.jobs)\n",
    "        sim.AnimateText(self.operations.name(), x=500, y=lambda: (\n",
    "            env.jobs.index(self) + 1) * 150 + 25, parent=self)\n",
    "        sim.AnimateQueue(\n",
    "            queue=self.operations, x=500, y=lambda: (env.jobs.index(self) + 1) * 150, direction='s', parent=self)\n",
    "        while self.operations:\n",
    "            next_operation = self.operations.head()\n",
    "            next_operation.enter(next_operation.machine.queue)\n",
    "            if next_operation.machine.ispassive():\n",
    "                next_operation.machine.activate()\n",
    "            yield self.passivate()\n",
    "        self.leave()\n",
    "        self.depart_time = env.now()\n",
    "\n",
    "\n",
    "class Operation(sim.Component):\n",
    "    def setup(self, job, machine, duration):\n",
    "        self.job = job\n",
    "        self.machine = machine\n",
    "        self.duration = duration\n",
    "        self.color = 'red'\n",
    "\n",
    "    def animation_objects(self):\n",
    "        ao = sim.AnimateRectangle(\n",
    "            (0, 0, 250, 20), fillcolor=lambda: self.color, text=self.name(), text_anchor='w')\n",
    "        return 110, 25, ao\n",
    "\n",
    "\n",
    "class Machine(sim.Component):\n",
    "    def setup(self):\n",
    "        self.queue = sim.Queue(self.name() + '.queue')\n",
    "        sim.AnimateText(self.queue.name(), x=100, y=(\n",
    "            self.sequence_number() + 1) * 150 + 25)\n",
    "        sim.AnimateQueue(queue=self.queue, x=100, y=(\n",
    "            self.sequence_number() + 1) * 150, direction='s')\n",
    "\n",
    "    def process(self):\n",
    "        while True:\n",
    "            if self.queue:  # kuyrukta iş varsa\n",
    "                if strategy == 'fifo':\n",
    "                    sel_operation = self.queue.head()\n",
    "                elif strategy == 'lifo':\n",
    "                    sel_operation = self.queue.tail()\n",
    "                elif strategy == 'spt':\n",
    "                    sel_operation = self.queue.head()\n",
    "                    for operation in self.queue:\n",
    "                        if operation.duration < sel_operation.duration:\n",
    "                            sel_operation = operation\n",
    "                elif strategy == 'sptsum':\n",
    "                    sel_sum = sim.inf\n",
    "                    for operation in self.queue:\n",
    "                        this_sum = sum(\n",
    "                            op.duration for op in operation.job.operations)\n",
    "                        if this_sum < sel_sum:\n",
    "                            sel_sum = this_sum\n",
    "                            sel_operation = operation\n",
    "                sel_operation.color = 'green'\n",
    "                yield self.hold(sel_operation.duration)\n",
    "                sel_operation.leave()  # iş ve makine kuyruğunu birlikte terket\n",
    "                sel_operation.job.activate()\n",
    "            else:\n",
    "                yield self.passivate()\n",
    "\n",
    "\n",
    "env = sim.Environment(trace=False)\n",
    "env.machines = [Machine() for _ in range(number_of_machines)]\n",
    "for i in range(number_of_jobs):\n",
    "    Job(i=i)\n",
    "env.jobs = sim.Queue(name='jobs')\n",
    "env.animation_parameters(modelname='job shop 4.3', speed=2)\n",
    "env.run()\n"
   ]
  },
  {
   "cell_type": "code",
   "execution_count": null,
   "metadata": {},
   "outputs": [],
   "source": []
  }
 ],
 "metadata": {
  "kernelspec": {
   "display_name": "Python 3",
   "language": "python",
   "name": "python3"
  },
  "language_info": {
   "codemirror_mode": {
    "name": "ipython",
    "version": 3
   },
   "file_extension": ".py",
   "mimetype": "text/x-python",
   "name": "python",
   "nbconvert_exporter": "python",
   "pygments_lexer": "ipython3",
   "version": "3.7.1"
  },
  "toc": {
   "base_numbering": 1,
   "nav_menu": {},
   "number_sections": true,
   "sideBar": true,
   "skip_h1_title": false,
   "title_cell": "Table of Contents",
   "title_sidebar": "Contents",
   "toc_cell": false,
   "toc_position": {},
   "toc_section_display": true,
   "toc_window_display": false
  },
  "varInspector": {
   "cols": {
    "lenName": 16,
    "lenType": 16,
    "lenVar": 40
   },
   "kernels_config": {
    "python": {
     "delete_cmd_postfix": "",
     "delete_cmd_prefix": "del ",
     "library": "var_list.py",
     "varRefreshCmd": "print(var_dic_list())"
    },
    "r": {
     "delete_cmd_postfix": ") ",
     "delete_cmd_prefix": "rm(",
     "library": "var_list.r",
     "varRefreshCmd": "cat(var_dic_list()) "
    }
   },
   "types_to_exclude": [
    "module",
    "function",
    "builtin_function_or_method",
    "instance",
    "_Feature"
   ],
   "window_display": false
  }
 },
 "nbformat": 4,
 "nbformat_minor": 2
}
